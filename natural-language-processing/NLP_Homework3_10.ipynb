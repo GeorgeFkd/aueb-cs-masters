{
  "nbformat": 4,
  "nbformat_minor": 0,
  "metadata": {
    "colab": {
      "provenance": []
    },
    "kernelspec": {
      "name": "python3",
      "display_name": "Python 3"
    },
    "language_info": {
      "name": "python"
    }
  },
  "cells": [
    {
      "cell_type": "code",
      "execution_count": null,
      "metadata": {
        "colab": {
          "base_uri": "https://localhost:8080/"
        },
        "id": "w3CxOWq-CxS8",
        "outputId": "a219fec0-4142-4643-92a3-bb93ee6bef78"
      },
      "outputs": [
        {
          "output_type": "stream",
          "name": "stdout",
          "text": [
            "Requirement already satisfied: numpy in /usr/local/lib/python3.10/dist-packages (1.26.4)\n",
            "Requirement already satisfied: scikit-learn in /usr/local/lib/python3.10/dist-packages (1.5.2)\n",
            "Requirement already satisfied: numpy>=1.19.5 in /usr/local/lib/python3.10/dist-packages (from scikit-learn) (1.26.4)\n",
            "Requirement already satisfied: scipy>=1.6.0 in /usr/local/lib/python3.10/dist-packages (from scikit-learn) (1.13.1)\n",
            "Requirement already satisfied: joblib>=1.2.0 in /usr/local/lib/python3.10/dist-packages (from scikit-learn) (1.4.2)\n",
            "Requirement already satisfied: threadpoolctl>=3.1.0 in /usr/local/lib/python3.10/dist-packages (from scikit-learn) (3.5.0)\n",
            "Requirement already satisfied: pandas in /usr/local/lib/python3.10/dist-packages (2.2.2)\n",
            "Requirement already satisfied: numpy>=1.22.4 in /usr/local/lib/python3.10/dist-packages (from pandas) (1.26.4)\n",
            "Requirement already satisfied: python-dateutil>=2.8.2 in /usr/local/lib/python3.10/dist-packages (from pandas) (2.8.2)\n",
            "Requirement already satisfied: pytz>=2020.1 in /usr/local/lib/python3.10/dist-packages (from pandas) (2024.2)\n",
            "Requirement already satisfied: tzdata>=2022.7 in /usr/local/lib/python3.10/dist-packages (from pandas) (2024.2)\n",
            "Requirement already satisfied: six>=1.5 in /usr/local/lib/python3.10/dist-packages (from python-dateutil>=2.8.2->pandas) (1.16.0)\n",
            "Requirement already satisfied: matplotlib in /usr/local/lib/python3.10/dist-packages (3.8.0)\n",
            "Requirement already satisfied: contourpy>=1.0.1 in /usr/local/lib/python3.10/dist-packages (from matplotlib) (1.3.1)\n",
            "Requirement already satisfied: cycler>=0.10 in /usr/local/lib/python3.10/dist-packages (from matplotlib) (0.12.1)\n",
            "Requirement already satisfied: fonttools>=4.22.0 in /usr/local/lib/python3.10/dist-packages (from matplotlib) (4.55.0)\n",
            "Requirement already satisfied: kiwisolver>=1.0.1 in /usr/local/lib/python3.10/dist-packages (from matplotlib) (1.4.7)\n",
            "Requirement already satisfied: numpy<2,>=1.21 in /usr/local/lib/python3.10/dist-packages (from matplotlib) (1.26.4)\n",
            "Requirement already satisfied: packaging>=20.0 in /usr/local/lib/python3.10/dist-packages (from matplotlib) (24.2)\n",
            "Requirement already satisfied: pillow>=6.2.0 in /usr/local/lib/python3.10/dist-packages (from matplotlib) (11.0.0)\n",
            "Requirement already satisfied: pyparsing>=2.3.1 in /usr/local/lib/python3.10/dist-packages (from matplotlib) (3.2.0)\n",
            "Requirement already satisfied: python-dateutil>=2.7 in /usr/local/lib/python3.10/dist-packages (from matplotlib) (2.8.2)\n",
            "Requirement already satisfied: six>=1.5 in /usr/local/lib/python3.10/dist-packages (from python-dateutil>=2.7->matplotlib) (1.16.0)\n",
            "Requirement already satisfied: umap-learn[plot] in /usr/local/lib/python3.10/dist-packages (0.5.7)\n",
            "Requirement already satisfied: numpy>=1.17 in /usr/local/lib/python3.10/dist-packages (from umap-learn[plot]) (1.26.4)\n",
            "Requirement already satisfied: scipy>=1.3.1 in /usr/local/lib/python3.10/dist-packages (from umap-learn[plot]) (1.13.1)\n",
            "Requirement already satisfied: scikit-learn>=0.22 in /usr/local/lib/python3.10/dist-packages (from umap-learn[plot]) (1.5.2)\n",
            "Requirement already satisfied: numba>=0.51.2 in /usr/local/lib/python3.10/dist-packages (from umap-learn[plot]) (0.60.0)\n",
            "Requirement already satisfied: pynndescent>=0.5 in /usr/local/lib/python3.10/dist-packages (from umap-learn[plot]) (0.5.13)\n",
            "Requirement already satisfied: tqdm in /usr/local/lib/python3.10/dist-packages (from umap-learn[plot]) (4.66.6)\n",
            "Requirement already satisfied: pandas in /usr/local/lib/python3.10/dist-packages (from umap-learn[plot]) (2.2.2)\n",
            "Requirement already satisfied: matplotlib in /usr/local/lib/python3.10/dist-packages (from umap-learn[plot]) (3.8.0)\n",
            "Requirement already satisfied: datashader in /usr/local/lib/python3.10/dist-packages (from umap-learn[plot]) (0.16.3)\n",
            "Requirement already satisfied: bokeh in /usr/local/lib/python3.10/dist-packages (from umap-learn[plot]) (3.6.1)\n",
            "Requirement already satisfied: holoviews in /usr/local/lib/python3.10/dist-packages (from umap-learn[plot]) (1.20.0)\n",
            "Requirement already satisfied: colorcet in /usr/local/lib/python3.10/dist-packages (from umap-learn[plot]) (3.1.0)\n",
            "Requirement already satisfied: seaborn in /usr/local/lib/python3.10/dist-packages (from umap-learn[plot]) (0.13.2)\n",
            "Requirement already satisfied: scikit-image in /usr/local/lib/python3.10/dist-packages (from umap-learn[plot]) (0.24.0)\n",
            "Requirement already satisfied: llvmlite<0.44,>=0.43.0dev0 in /usr/local/lib/python3.10/dist-packages (from numba>=0.51.2->umap-learn[plot]) (0.43.0)\n",
            "Requirement already satisfied: joblib>=0.11 in /usr/local/lib/python3.10/dist-packages (from pynndescent>=0.5->umap-learn[plot]) (1.4.2)\n",
            "Requirement already satisfied: threadpoolctl>=3.1.0 in /usr/local/lib/python3.10/dist-packages (from scikit-learn>=0.22->umap-learn[plot]) (3.5.0)\n",
            "Requirement already satisfied: Jinja2>=2.9 in /usr/local/lib/python3.10/dist-packages (from bokeh->umap-learn[plot]) (3.1.4)\n",
            "Requirement already satisfied: contourpy>=1.2 in /usr/local/lib/python3.10/dist-packages (from bokeh->umap-learn[plot]) (1.3.1)\n",
            "Requirement already satisfied: packaging>=16.8 in /usr/local/lib/python3.10/dist-packages (from bokeh->umap-learn[plot]) (24.2)\n",
            "Requirement already satisfied: pillow>=7.1.0 in /usr/local/lib/python3.10/dist-packages (from bokeh->umap-learn[plot]) (11.0.0)\n",
            "Requirement already satisfied: PyYAML>=3.10 in /usr/local/lib/python3.10/dist-packages (from bokeh->umap-learn[plot]) (6.0.2)\n",
            "Requirement already satisfied: tornado>=6.2 in /usr/local/lib/python3.10/dist-packages (from bokeh->umap-learn[plot]) (6.3.3)\n",
            "Requirement already satisfied: xyzservices>=2021.09.1 in /usr/local/lib/python3.10/dist-packages (from bokeh->umap-learn[plot]) (2024.9.0)\n",
            "Requirement already satisfied: python-dateutil>=2.8.2 in /usr/local/lib/python3.10/dist-packages (from pandas->umap-learn[plot]) (2.8.2)\n",
            "Requirement already satisfied: pytz>=2020.1 in /usr/local/lib/python3.10/dist-packages (from pandas->umap-learn[plot]) (2024.2)\n",
            "Requirement already satisfied: tzdata>=2022.7 in /usr/local/lib/python3.10/dist-packages (from pandas->umap-learn[plot]) (2024.2)\n",
            "Requirement already satisfied: dask in /usr/local/lib/python3.10/dist-packages (from datashader->umap-learn[plot]) (2024.10.0)\n",
            "Requirement already satisfied: multipledispatch in /usr/local/lib/python3.10/dist-packages (from datashader->umap-learn[plot]) (1.0.0)\n",
            "Requirement already satisfied: param in /usr/local/lib/python3.10/dist-packages (from datashader->umap-learn[plot]) (2.1.1)\n",
            "Requirement already satisfied: pyct in /usr/local/lib/python3.10/dist-packages (from datashader->umap-learn[plot]) (0.5.0)\n",
            "Requirement already satisfied: requests in /usr/local/lib/python3.10/dist-packages (from datashader->umap-learn[plot]) (2.32.3)\n",
            "Requirement already satisfied: toolz in /usr/local/lib/python3.10/dist-packages (from datashader->umap-learn[plot]) (0.12.1)\n",
            "Requirement already satisfied: xarray in /usr/local/lib/python3.10/dist-packages (from datashader->umap-learn[plot]) (2024.10.0)\n",
            "Requirement already satisfied: panel>=1.0 in /usr/local/lib/python3.10/dist-packages (from holoviews->umap-learn[plot]) (1.5.4)\n",
            "Requirement already satisfied: pyviz-comms>=2.1 in /usr/local/lib/python3.10/dist-packages (from holoviews->umap-learn[plot]) (3.0.3)\n",
            "Requirement already satisfied: cycler>=0.10 in /usr/local/lib/python3.10/dist-packages (from matplotlib->umap-learn[plot]) (0.12.1)\n",
            "Requirement already satisfied: fonttools>=4.22.0 in /usr/local/lib/python3.10/dist-packages (from matplotlib->umap-learn[plot]) (4.55.0)\n",
            "Requirement already satisfied: kiwisolver>=1.0.1 in /usr/local/lib/python3.10/dist-packages (from matplotlib->umap-learn[plot]) (1.4.7)\n",
            "Requirement already satisfied: pyparsing>=2.3.1 in /usr/local/lib/python3.10/dist-packages (from matplotlib->umap-learn[plot]) (3.2.0)\n",
            "Requirement already satisfied: networkx>=2.8 in /usr/local/lib/python3.10/dist-packages (from scikit-image->umap-learn[plot]) (3.4.2)\n",
            "Requirement already satisfied: imageio>=2.33 in /usr/local/lib/python3.10/dist-packages (from scikit-image->umap-learn[plot]) (2.36.0)\n",
            "Requirement already satisfied: tifffile>=2022.8.12 in /usr/local/lib/python3.10/dist-packages (from scikit-image->umap-learn[plot]) (2024.9.20)\n",
            "Requirement already satisfied: lazy-loader>=0.4 in /usr/local/lib/python3.10/dist-packages (from scikit-image->umap-learn[plot]) (0.4)\n",
            "Requirement already satisfied: MarkupSafe>=2.0 in /usr/local/lib/python3.10/dist-packages (from Jinja2>=2.9->bokeh->umap-learn[plot]) (3.0.2)\n",
            "Requirement already satisfied: bleach in /usr/local/lib/python3.10/dist-packages (from panel>=1.0->holoviews->umap-learn[plot]) (6.2.0)\n",
            "Requirement already satisfied: linkify-it-py in /usr/local/lib/python3.10/dist-packages (from panel>=1.0->holoviews->umap-learn[plot]) (2.0.3)\n",
            "Requirement already satisfied: markdown in /usr/local/lib/python3.10/dist-packages (from panel>=1.0->holoviews->umap-learn[plot]) (3.7)\n",
            "Requirement already satisfied: markdown-it-py in /usr/local/lib/python3.10/dist-packages (from panel>=1.0->holoviews->umap-learn[plot]) (3.0.0)\n",
            "Requirement already satisfied: mdit-py-plugins in /usr/local/lib/python3.10/dist-packages (from panel>=1.0->holoviews->umap-learn[plot]) (0.4.2)\n",
            "Requirement already satisfied: typing-extensions in /usr/local/lib/python3.10/dist-packages (from panel>=1.0->holoviews->umap-learn[plot]) (4.12.2)\n",
            "Requirement already satisfied: six>=1.5 in /usr/local/lib/python3.10/dist-packages (from python-dateutil>=2.8.2->pandas->umap-learn[plot]) (1.16.0)\n",
            "Requirement already satisfied: click>=8.1 in /usr/local/lib/python3.10/dist-packages (from dask->datashader->umap-learn[plot]) (8.1.7)\n",
            "Requirement already satisfied: cloudpickle>=3.0.0 in /usr/local/lib/python3.10/dist-packages (from dask->datashader->umap-learn[plot]) (3.1.0)\n",
            "Requirement already satisfied: fsspec>=2021.09.0 in /usr/local/lib/python3.10/dist-packages (from dask->datashader->umap-learn[plot]) (2024.10.0)\n",
            "Requirement already satisfied: partd>=1.4.0 in /usr/local/lib/python3.10/dist-packages (from dask->datashader->umap-learn[plot]) (1.4.2)\n",
            "Requirement already satisfied: importlib-metadata>=4.13.0 in /usr/local/lib/python3.10/dist-packages (from dask->datashader->umap-learn[plot]) (8.5.0)\n",
            "Requirement already satisfied: charset-normalizer<4,>=2 in /usr/local/lib/python3.10/dist-packages (from requests->datashader->umap-learn[plot]) (3.4.0)\n",
            "Requirement already satisfied: idna<4,>=2.5 in /usr/local/lib/python3.10/dist-packages (from requests->datashader->umap-learn[plot]) (3.10)\n",
            "Requirement already satisfied: urllib3<3,>=1.21.1 in /usr/local/lib/python3.10/dist-packages (from requests->datashader->umap-learn[plot]) (2.2.3)\n",
            "Requirement already satisfied: certifi>=2017.4.17 in /usr/local/lib/python3.10/dist-packages (from requests->datashader->umap-learn[plot]) (2024.8.30)\n",
            "Requirement already satisfied: zipp>=3.20 in /usr/local/lib/python3.10/dist-packages (from importlib-metadata>=4.13.0->dask->datashader->umap-learn[plot]) (3.21.0)\n",
            "Requirement already satisfied: locket in /usr/local/lib/python3.10/dist-packages (from partd>=1.4.0->dask->datashader->umap-learn[plot]) (1.0.0)\n",
            "Requirement already satisfied: webencodings in /usr/local/lib/python3.10/dist-packages (from bleach->panel>=1.0->holoviews->umap-learn[plot]) (0.5.1)\n",
            "Requirement already satisfied: uc-micro-py in /usr/local/lib/python3.10/dist-packages (from linkify-it-py->panel>=1.0->holoviews->umap-learn[plot]) (1.0.3)\n",
            "Requirement already satisfied: mdurl~=0.1 in /usr/local/lib/python3.10/dist-packages (from markdown-it-py->panel>=1.0->holoviews->umap-learn[plot]) (0.1.2)\n",
            "Requirement already satisfied: pyconll in /usr/local/lib/python3.10/dist-packages (3.2.0)\n"
          ]
        }
      ],
      "source": [
        "!pip install numpy\n",
        "!pip install scikit-learn\n",
        "!pip install pandas\n",
        "!pip install matplotlib\n",
        "!pip install umap-learn[plot]\n",
        "!pip install pyconll\n"
      ]
    },
    {
      "cell_type": "code",
      "source": [
        "from statistics import linear_regression\n",
        "from sklearn import svm\n",
        "from sklearn.model_selection import learning_curve\n",
        "from sklearn.model_selection import ShuffleSplit\n",
        "from sklearn.model_selection import GridSearchCV\n",
        "from sklearn.model_selection import RandomizedSearchCV\n",
        "from sklearn.preprocessing import LabelBinarizer\n",
        "\n",
        "\n",
        "from sklearn.pipeline import Pipeline\n",
        "import nltk\n",
        "import umap\n",
        "from nltk.help import upenn_tagset\n",
        "import seaborn as sns\n",
        "import matplotlib.pyplot as plt\n",
        "from sklearn.dummy import DummyClassifier\n",
        "from sklearn.metrics import accuracy_score, ConfusionMatrixDisplay, precision_score, average_precision_score\n",
        "import pandas as pd\n",
        "import numpy as np\n",
        "import time\n",
        "import os\n",
        "from sklearn.metrics import precision_recall_curve\n",
        "from sklearn.linear_model import LogisticRegression\n",
        "from sklearn import svm\n",
        "from sklearn.metrics import auc\n",
        "from sklearn.naive_bayes import MultinomialNB\n",
        "\n",
        "from nltk.corpus import wordnet,subjectivity,stopwords\n",
        "from nltk.corpus import stopwords\n",
        "from nltk.tokenize import sent_tokenize, word_tokenize\n",
        "\n",
        "from sklearn.feature_extraction.text import TfidfVectorizer\n",
        "\n",
        "from nltk.tag.perceptron import PerceptronTagger\n",
        "from nltk.stem import WordNetLemmatizer\n",
        "from sklearn.model_selection import train_test_split\n",
        "from sklearn.decomposition import PCA, TruncatedSVD\n",
        "from sklearn.metrics import classification_report\n",
        "from sklearn.metrics import precision_score, recall_score, f1_score, precision_recall_fscore_support\n",
        "import re\n",
        "import string\n",
        "from tqdm import tqdm\n",
        "from sklearn.linear_model import LogisticRegression\n",
        "\n",
        "import torch # torch provides basic functions, from setting a random seed (for reproducability) to creating tensors.\n",
        "import torch.nn as nn # torch.nn allows us to create a neural network.\n",
        "import torch.nn.functional as F # nn.functional give us access to the activation and loss functions.\n",
        "from torch.optim import Adam # optim contains many optimizers. Here, we're using SGD, stochastic gradient descent, specifically Adam.\n",
        "from torch.utils.data import TensorDataset, DataLoader\n",
        "\n",
        "import matplotlib.pyplot as plt ## matplotlib allows us to draw graphs.\n",
        "import seaborn as sns ## seaborn makes it easier to draw nice-looking graphs.\n",
        "\n",
        "nltk.download(\"subjectivity\")\n",
        "nltk.download('tagsets_json')\n",
        "nltk.download('wordnet')\n",
        "nltk.download('omw-1.4')\n",
        "nltk.download('averaged_perceptron_tagger_eng')\n",
        "nltk.download('stopwords')\n",
        "nltk.download('punkt')\n",
        "nltk.download('punkt_tab')"
      ],
      "metadata": {
        "colab": {
          "base_uri": "https://localhost:8080/"
        },
        "id": "67ZCRrCBmVGr",
        "outputId": "cf25ed56-b3d4-46a2-e9e2-1dd1bcfcd7f2"
      },
      "execution_count": null,
      "outputs": [
        {
          "output_type": "stream",
          "name": "stderr",
          "text": [
            "[nltk_data] Downloading package subjectivity to /root/nltk_data...\n",
            "[nltk_data]   Package subjectivity is already up-to-date!\n",
            "[nltk_data] Downloading package tagsets_json to /root/nltk_data...\n",
            "[nltk_data]   Package tagsets_json is already up-to-date!\n",
            "[nltk_data] Downloading package wordnet to /root/nltk_data...\n",
            "[nltk_data]   Package wordnet is already up-to-date!\n",
            "[nltk_data] Downloading package omw-1.4 to /root/nltk_data...\n",
            "[nltk_data]   Package omw-1.4 is already up-to-date!\n",
            "[nltk_data] Downloading package averaged_perceptron_tagger_eng to\n",
            "[nltk_data]     /root/nltk_data...\n",
            "[nltk_data]   Package averaged_perceptron_tagger_eng is already up-to-\n",
            "[nltk_data]       date!\n",
            "[nltk_data] Downloading package stopwords to /root/nltk_data...\n",
            "[nltk_data]   Package stopwords is already up-to-date!\n",
            "[nltk_data] Downloading package punkt to /root/nltk_data...\n",
            "[nltk_data]   Package punkt is already up-to-date!\n",
            "[nltk_data] Downloading package punkt_tab to /root/nltk_data...\n",
            "[nltk_data]   Package punkt_tab is already up-to-date!\n"
          ]
        },
        {
          "output_type": "execute_result",
          "data": {
            "text/plain": [
              "True"
            ]
          },
          "metadata": {},
          "execution_count": 4
        }
      ]
    },
    {
      "cell_type": "markdown",
      "source": [
        "# Ex.10 Word Embeddings MLP for POS Tagging"
      ],
      "metadata": {
        "id": "BFN63uXVoexu"
      }
    },
    {
      "cell_type": "code",
      "source": [
        "import os\n",
        "file_path_dev = \"en_gum-ud-dev.conllu\"\n",
        "file_path_train = \"en_gum-ud-train.conllu\"\n",
        "file_path_test = \"en_gum-ud-test.conllu\"\n",
        "print(os.getcwd())"
      ],
      "metadata": {
        "id": "83bbox5csY2a",
        "colab": {
          "base_uri": "https://localhost:8080/"
        },
        "outputId": "9f2010b2-24d9-4f33-f5c7-2fa482f81897"
      },
      "execution_count": null,
      "outputs": [
        {
          "output_type": "stream",
          "name": "stdout",
          "text": [
            "/content\n"
          ]
        }
      ]
    },
    {
      "cell_type": "code",
      "source": [
        "import pyconll\n",
        "def read_conllu(path):\n",
        "    data = pyconll.load_from_file(path)\n",
        "    tagged_sentences=[]\n",
        "    t=0\n",
        "    for sentence in data:\n",
        "        tagged_sentence=[]\n",
        "        for token in sentence:\n",
        "            if token.upos:\n",
        "                t+=1\n",
        "                tagged_sentence.append((token.form.lower(), token.upos))\n",
        "        tagged_sentences.append(tagged_sentence)\n",
        "    return tagged_sentences\n",
        "data_dev = read_conllu(file_path_dev)\n",
        "data_train = read_conllu(file_path_train)\n",
        "data_test = read_conllu(file_path_test)\n",
        "\n",
        "print(len(data_dev))\n",
        "print(len(data_train))\n",
        "print(len(data_test))\n",
        "print(data_dev[0],data_train[0],data_test[0])"
      ],
      "metadata": {
        "colab": {
          "base_uri": "https://localhost:8080/"
        },
        "id": "FMjkokuCsoDc",
        "outputId": "187ebd96-e4f3-4c85-d782-3fef19fee21c"
      },
      "execution_count": null,
      "outputs": [
        {
          "output_type": "stream",
          "name": "stdout",
          "text": [
            "1341\n",
            "9520\n",
            "1285\n",
            "[('introduction', 'NOUN')] [('aesthetic', 'ADJ'), ('appreciation', 'NOUN'), ('and', 'CCONJ'), ('spanish', 'ADJ'), ('art', 'NOUN'), (':', 'PUNCT')] [('the', 'DET'), ('prevalence', 'NOUN'), ('of', 'ADP'), ('discrimination', 'NOUN'), ('across', 'ADP'), ('racial', 'ADJ'), ('groups', 'NOUN'), ('in', 'ADP'), ('contemporary', 'ADJ'), ('america', 'PROPN'), (':', 'PUNCT')]\n"
          ]
        }
      ]
    },
    {
      "cell_type": "code",
      "source": [
        "def load_ud_treebank_data(sentences):\n",
        "    # Sample format: (word, pos_tag)\n",
        "\n",
        "    words = []\n",
        "    pos_tags = []\n",
        "\n",
        "    for sentence in sentences:\n",
        "        for word, pos in sentence:\n",
        "            words.append(word)\n",
        "            pos_tags.append(pos)\n",
        "\n",
        "    return words, pos_tags"
      ],
      "metadata": {
        "id": "3rDPwhAHxXzD"
      },
      "execution_count": null,
      "outputs": []
    },
    {
      "cell_type": "code",
      "source": [
        "X_dev,Y_dev = load_ud_treebank_data(data_dev)\n",
        "X_train,Y_train = load_ud_treebank_data(data_train)\n",
        "X_test,Y_test = load_ud_treebank_data(data_test)\n",
        "\n",
        "print(X_dev[0],Y_dev[0])\n",
        "print(X_train[0],Y_train[0])\n",
        "print(X_test[0],Y_test[0])\n",
        "\n",
        "print(set(Y_train + Y_dev + Y_test))"
      ],
      "metadata": {
        "colab": {
          "base_uri": "https://localhost:8080/"
        },
        "id": "IgCOdjKks8vP",
        "outputId": "865084ef-af6f-4b36-9354-5d0f8b08a684"
      },
      "execution_count": null,
      "outputs": [
        {
          "output_type": "stream",
          "name": "stdout",
          "text": [
            "introduction NOUN\n",
            "aesthetic ADJ\n",
            "the DET\n",
            "{'PART', 'PRON', 'ADJ', 'X', 'VERB', 'ADP', 'ADV', 'INTJ', 'PUNCT', 'SCONJ', 'NOUN', 'DET', 'AUX', 'PROPN', 'CCONJ', 'SYM', 'NUM'}\n"
          ]
        }
      ]
    },
    {
      "cell_type": "code",
      "source": [
        "import gensim.downloader as api\n",
        "wv = api.load('word2vec-google-news-300')"
      ],
      "metadata": {
        "id": "4BeKwLBuocDA"
      },
      "execution_count": null,
      "outputs": []
    },
    {
      "cell_type": "code",
      "source": [
        "print(wv)"
      ],
      "metadata": {
        "colab": {
          "base_uri": "https://localhost:8080/"
        },
        "id": "B4xbMFkEkHGL",
        "outputId": "6f0db819-41ee-454c-b6f9-9683d0b43aea"
      },
      "execution_count": null,
      "outputs": [
        {
          "output_type": "stream",
          "name": "stdout",
          "text": [
            "KeyedVectors<vector_size=300, 3000000 keys>\n"
          ]
        }
      ]
    },
    {
      "cell_type": "code",
      "source": [
        "def plot_training_histories(histories):\n",
        "    # Plotting loss\n",
        "    colors = [\n",
        "        (\"lightgreen\",\"green\"),\n",
        "        (\"lightblue\",\"blue\")\n",
        "    ]\n",
        "    plt.figure()\n",
        "    for (index,history) in enumerate(histories):\n",
        "      plt.plot(history['train_loss'], label=f'Training Loss {index}',color=colors[index][0])\n",
        "      plt.plot(history['val_loss'], label=f'Validation Loss {index}',color=colors[index][1])\n",
        "\n",
        "    plt.title('Loss Over Epochs')\n",
        "    plt.xlabel('Epochs')\n",
        "    plt.ylabel('Loss')\n",
        "    plt.legend()\n",
        "    plt.show()\n",
        "\n",
        "    plt.figure()\n",
        "    for (index,history) in enumerate(histories):\n",
        "\n",
        "        plt.plot(history['train_accuracy'], label=f'Training Accuracy {index}',color=colors[index][0])\n",
        "        plt.plot(history['val_accuracy'], label=f'Validation Accuracy {index}',color=colors[index][1])\n",
        "    plt.title('Accuracy Over Epochs')\n",
        "    plt.xlabel('Epochs')\n",
        "    plt.ylabel('Accuracy')\n",
        "    plt.legend()\n",
        "    plt.show()\n",
        "\n",
        "    plt.figure()\n",
        "    for (index,history) in enumerate(histories):\n",
        "        plt.plot(history['train_f1_score'], label=f'Training Accuracy {index}',color=colors[index][0])\n",
        "        plt.plot(history['val_f1_score'], label=f'Validation Accuracy {index}',color=colors[index][1])\n",
        "    plt.title('F1 Score Over Epochs')\n",
        "    plt.xlabel('Epochs')\n",
        "    plt.ylabel('F1 Score')\n",
        "    plt.legend()\n",
        "    plt.show()"
      ],
      "metadata": {
        "id": "FXvgZEYcjnF7"
      },
      "execution_count": null,
      "outputs": []
    },
    {
      "cell_type": "code",
      "source": [
        "nltk.download('stopwords')\n",
        "stop_words = set(stopwords.words('english'))"
      ],
      "metadata": {
        "colab": {
          "base_uri": "https://localhost:8080/"
        },
        "id": "13e2N7viXFdk",
        "outputId": "3ffa3eb7-3a0e-408b-e993-c2161d50a647"
      },
      "execution_count": null,
      "outputs": [
        {
          "output_type": "stream",
          "name": "stderr",
          "text": [
            "[nltk_data] Downloading package stopwords to /root/nltk_data...\n",
            "[nltk_data]   Package stopwords is already up-to-date!\n"
          ]
        }
      ]
    },
    {
      "cell_type": "code",
      "source": [
        "def text_word_embedding(token, model):\n",
        "    try:\n",
        "        return np.asarray(model[token.lower()])\n",
        "    except:\n",
        "        #return np.asarray(np.zeros((300,1)))\n",
        "        pass\n",
        "\n",
        "\n",
        "\n",
        "x_train_word_embeddings = [text_word_embedding(token,wv) for token in X_train]\n",
        "x_train_word_embeddings = [var_word_embedding if var_word_embedding is not None else np.full((300,), 0.42) for var_word_embedding in x_train_word_embeddings]\n",
        "\n",
        "print(\"the type of x_train_word_embeddings is:\", type(x_train_word_embeddings))\n",
        "print(\"x_train_word_embeddings length is:\", len(x_train_word_embeddings))\n",
        "print(\"the size of an word embedding is: \", x_train_word_embeddings[0].shape)\n",
        "x_train_word_embeddings = np.stack(x_train_word_embeddings, axis=0)\n",
        "print(\"x_train_word_embeddings length is:\", len(x_train_word_embeddings))\n",
        "\n",
        "x_dev_word_embeddings = [text_word_embedding(token,wv) for token in X_dev]\n",
        "x_dev_word_embeddings = [var_word_embedding if var_word_embedding is not None else np.full((300,), 0.42) for var_word_embedding in x_dev_word_embeddings]\n",
        "print(\"the type of x_dev_word_embeddings is:\", type(x_dev_word_embeddings))\n",
        "print(\"x_dev_word_embeddings length is:\", len(x_dev_word_embeddings))\n",
        "print(\"the size of an word embedding is: \", x_dev_word_embeddings[0].shape)\n",
        "x_dev_word_embeddings = np.stack(x_dev_word_embeddings, axis=0)\n",
        "\n",
        "x_test_word_embeddings = [text_word_embedding(token,wv) for token in X_test]\n",
        "x_test_word_embeddings = [var_word_embedding if var_word_embedding is not None else np.full((300,), 0.42) for var_word_embedding in x_test_word_embeddings]\n",
        "print(\"the type of x_test_word_embeddings is:\", type(x_test_word_embeddings))\n",
        "print(\"x_test_word_embeddings length is:\", len(x_test_word_embeddings))\n",
        "print(\"the size of an word embedding is: \", x_test_word_embeddings[0].shape)\n",
        "x_test_word_embeddings = np.stack(x_test_word_embeddings, axis=0)"
      ],
      "metadata": {
        "colab": {
          "base_uri": "https://localhost:8080/"
        },
        "id": "jhVaMxiUeahy",
        "outputId": "c816e711-5743-4da4-a4b9-94847d422d25"
      },
      "execution_count": null,
      "outputs": [
        {
          "output_type": "stream",
          "name": "stdout",
          "text": [
            "the type of x_train_word_embeddings is: <class 'list'>\n",
            "x_train_word_embeddings length is: 164108\n",
            "the size of an word embedding is:  (300,)\n",
            "x_train_word_embeddings length is: 164108\n",
            "the type of x_dev_word_embeddings is: <class 'list'>\n",
            "x_dev_word_embeddings length is: 23920\n",
            "the size of an word embedding is:  (300,)\n",
            "the type of x_test_word_embeddings is: <class 'list'>\n",
            "x_test_word_embeddings length is: 24005\n",
            "the size of an word embedding is:  (300,)\n"
          ]
        }
      ]
    },
    {
      "cell_type": "code",
      "source": [
        "class MLP_centroids(nn.Module):\n",
        "    def __init__(self):\n",
        "        super(MLP_centroids, self).__init__()\n",
        "        self.network = nn.Sequential(\n",
        "            nn.Linear(300, 256), # Dense layer. Takes the input of shape (batch_size, 300) and connects it to 1024 nodes (batch_size, 1024)\n",
        "            nn.ReLU(), # Applies ReLU activation function\n",
        "            nn.Dropout(0.3), # Applies 30% dropout\n",
        "            nn.Linear(256, 256), # Dense layer. Connects the 1024 nodes with 1024 nodes. (batch_size, 1024)\n",
        "            nn.ReLU(), # Applies ReLU activation function\n",
        "            nn.Dropout(0.3), # Applies 30% dropout\n",
        "            nn.Linear(256, 128), # Dense layer. Takes the 1024 nodes and connects them to 512. (batch_size, 512)\n",
        "            nn.ReLU(), # Applies ReLU activation function\n",
        "            nn.Dropout(0.4), # Applies 30% Dropout\n",
        "            nn.Linear(128, 17) # Final dense layer. Produces the so called \"logits\" which are the results after the dense layer before the softmax.\n",
        "        )\n",
        "\n",
        "    def forward(self, input):\n",
        "        return self.network(input) # Forward pass of the input through the neural network\n",
        "\n",
        "mlp_cent = MLP_centroids()\n",
        "print(mlp_cent)"
      ],
      "metadata": {
        "colab": {
          "base_uri": "https://localhost:8080/"
        },
        "id": "-je3AsDXoqv5",
        "outputId": "128ba842-2d51-4874-c808-dbb9923ef316"
      },
      "execution_count": null,
      "outputs": [
        {
          "output_type": "stream",
          "name": "stdout",
          "text": [
            "MLP_centroids(\n",
            "  (network): Sequential(\n",
            "    (0): Linear(in_features=300, out_features=256, bias=True)\n",
            "    (1): ReLU()\n",
            "    (2): Dropout(p=0.3, inplace=False)\n",
            "    (3): Linear(in_features=256, out_features=256, bias=True)\n",
            "    (4): ReLU()\n",
            "    (5): Dropout(p=0.3, inplace=False)\n",
            "    (6): Linear(in_features=256, out_features=128, bias=True)\n",
            "    (7): ReLU()\n",
            "    (8): Dropout(p=0.4, inplace=False)\n",
            "    (9): Linear(in_features=128, out_features=17, bias=True)\n",
            "  )\n",
            ")\n"
          ]
        }
      ]
    },
    {
      "cell_type": "code",
      "source": [
        "\n",
        "labels = list(set(Y_train + Y_dev + Y_test))\n",
        "print(labels,len(labels))\n",
        "labels_dict = {}\n",
        "for x,y in enumerate(labels):\n",
        "    labels_dict[y] = x\n",
        "print(labels_dict)\n",
        "Y_train = list(map(lambda x: labels_dict[x],Y_train))\n",
        "Y_dev = list(map(lambda x: labels_dict[x],Y_dev))\n",
        "Y_test = list(map(lambda x: labels_dict[x],Y_test))\n",
        "print(Y_train[:3],Y_dev[:3],Y_test[:3])"
      ],
      "metadata": {
        "colab": {
          "base_uri": "https://localhost:8080/"
        },
        "id": "zxBHELc5zibh",
        "outputId": "53222117-49bd-4a68-858a-ff0c30a57b5e"
      },
      "execution_count": null,
      "outputs": [
        {
          "output_type": "stream",
          "name": "stdout",
          "text": [
            "{0, 1, 2, 3, 4, 5, 6, 7, 8, 9, 10, 11, 12, 13, 14, 15, 16}\n",
            "[0, 1, 2, 3, 4, 5, 6, 7, 8, 9, 10, 11, 12, 13, 14, 15, 16] 17\n",
            "{0: 0, 1: 1, 2: 2, 3: 3, 4: 4, 5: 5, 6: 6, 7: 7, 8: 8, 9: 9, 10: 10, 11: 11, 12: 12, 13: 13, 14: 14, 15: 15, 16: 16}\n",
            "[2, 10, 14] [10, 10, 5] [11, 10, 5]\n"
          ]
        }
      ]
    },
    {
      "cell_type": "code",
      "source": [
        "print(x_train_word_embeddings[0][0])\n",
        "\n",
        "X_train_cent_tensor = torch.tensor(x_train_word_embeddings, dtype=torch.float32)\n",
        "y_train_tensor = torch.tensor(Y_train, dtype=torch.long)\n",
        "\n",
        "X_dev_cent_tensor = torch.tensor(x_dev_word_embeddings, dtype=torch.float32)\n",
        "y_dev_tensor = torch.tensor(Y_dev, dtype=torch.long)\n",
        "\n",
        "X_test_cent_tensor = torch.tensor(x_test_word_embeddings, dtype=torch.float32)\n",
        "y_test_tensor = torch.tensor(Y_test, dtype=torch.long)\n"
      ],
      "metadata": {
        "colab": {
          "base_uri": "https://localhost:8080/"
        },
        "id": "-YWAajj_zEhZ",
        "outputId": "d6d3c89c-c23f-484e-edbe-a6b463c75cee"
      },
      "execution_count": null,
      "outputs": [
        {
          "output_type": "stream",
          "name": "stdout",
          "text": [
            "0.045166015625\n"
          ]
        }
      ]
    },
    {
      "cell_type": "code",
      "source": [
        "batch_size = 256\n",
        "\n",
        "print(X_train_cent_tensor.shape)\n",
        "print(y_train_tensor.shape)\n",
        "\n",
        "train_dataset = TensorDataset(X_train_cent_tensor, y_train_tensor)\n",
        "train_loader = DataLoader(train_dataset, batch_size=batch_size, shuffle=True)\n",
        "\n",
        "dev_dataset = TensorDataset(X_dev_cent_tensor, y_dev_tensor)\n",
        "dev_loader = DataLoader(dev_dataset, batch_size=batch_size, shuffle=True)\n",
        "\n",
        "test_dataset = TensorDataset(X_test_cent_tensor, y_test_tensor)\n",
        "test_loader = DataLoader(test_dataset, batch_size=batch_size, shuffle=True)"
      ],
      "metadata": {
        "colab": {
          "base_uri": "https://localhost:8080/"
        },
        "id": "ml6lKDV5P9hg",
        "outputId": "d2e3ddf8-6f2d-45c0-bd07-f341aa9c9582"
      },
      "execution_count": null,
      "outputs": [
        {
          "output_type": "stream",
          "name": "stdout",
          "text": [
            "torch.Size([164108, 300])\n",
            "torch.Size([164108])\n"
          ]
        }
      ]
    },
    {
      "cell_type": "code",
      "source": [
        "def train_mlp_with_params():\n",
        "    global train_loader,dev_loader,test_loader\n",
        "    model_mlp_tf_idf = MLP_centroids() # Instantiate the model. If your model had variable arguments, you would have to set their value here\n",
        "    model_mlp_tf_idf.to(torch.device('cpu'))\n",
        "    optimizer = Adam(model_mlp_tf_idf.parameters(), lr = 0.001) # Define the optimizer you wish to use, in this case Adam\n",
        "    criterion = nn.CrossEntropyLoss() # Define the loss function specific to your problem.\n",
        "                                  # Check pytorch documentation for more details. Different loss functions are used for different problems\n",
        "    history = {'train_loss': [], 'val_loss': [], 'train_accuracy': [], 'val_accuracy': [], 'train_f1_score': [], 'val_f1_score': []}\n",
        "    epochs = 150\n",
        "## 250 epochs are too much in our scenario, the loss gets too low\n",
        "## 150 seems good for us\n",
        "## this is the optimization loop. Each time the optimizer sees all of the training data is called an \"epoch\".\n",
        "\n",
        "    best_val_loss = float(\"inf\") # Initialize to a high value to track the lowest validation loss\n",
        "    best_model_path = None  # To keep track of the previous best model file\n",
        "\n",
        "\n",
        "    for epoch in range(epochs):\n",
        "        model_mlp_tf_idf.train()  # Set the model to training mode\n",
        "        running_loss = 0.0  # Track the loss for the epoch\n",
        "        train_outputs = [] # the list which contains the outputs of a batch\n",
        "        train_labels = [] # the list which contains the labels of a batch\n",
        "\n",
        "    ## this internal loop is where the optimizer sees all of the training data and where we\n",
        "    ## calculate the total_loss for all of the training data.\n",
        "        for batch in train_loader:\n",
        "\n",
        "            features, labels = batch\n",
        "            features = features.to(torch.device('cpu')) # Move features to device\n",
        "            labels = labels.to(torch.device('cpu')) # Move labels to device\n",
        "\n",
        "            optimizer.zero_grad()  # Zero the gradients\n",
        "\n",
        "        # Forward pass: Computes the model output\n",
        "            outputs = model_mlp_tf_idf(features)\n",
        "\n",
        "        # Calculate the loss with class indices (not one-hot)\n",
        "            loss = criterion(outputs, labels)  # labels should be class indices, not one-hot\n",
        "            loss.backward()  # Backward pass\n",
        "\n",
        "            optimizer.step()  # Optimize (Update the model parameters)\n",
        "\n",
        "        # Accumulate the loss\n",
        "            running_loss += loss.item()\n",
        "\n",
        "        # the outputs from forward pass\n",
        "            train_outputs.append(outputs)\n",
        "            train_labels.append(labels)\n",
        "\n",
        "        #----------------------------------------------------------------------------------------------------------------\n",
        "\n",
        "    # Concatenate all outputs and labels\n",
        "        train_outputs = torch.cat(train_outputs)\n",
        "        train_labels = torch.cat(train_labels)\n",
        "\n",
        "    # (1) Get label indices\n",
        "    ####################################################\n",
        "    #train_classes = torch.argmax(train_labels, dim = 1)\n",
        "    ####################################################\n",
        "        train_classes = train_labels\n",
        "\n",
        "    # (2) Get predicted class indices (we want ro transform the vector to one-hot\n",
        "    #     (we put one in the index of max element and zeros to others))\n",
        "        train_predicted_classes = torch.argmax(train_outputs, dim=1)\n",
        "\n",
        "    # Print average loss for the epoch\n",
        "        epoch_loss = running_loss / len(train_loader)\n",
        "        # print(f'Epoch [{epoch+1}/{epochs}], Average Loss: {epoch_loss:.4f}')\n",
        "\n",
        "    #mexri 0.003 kati\n",
        "\n",
        "        train_loss = running_loss / len(train_loader)\n",
        "        train_accuracy = accuracy_score(train_classes.cpu(), train_predicted_classes.cpu())\n",
        "        train_f1_score = f1_score(train_classes.cpu(), train_predicted_classes.cpu(), average='weighted')\n",
        "        history['train_loss'].append(train_loss)\n",
        "        history['train_accuracy'].append(train_accuracy)\n",
        "        history['train_f1_score'].append(train_f1_score)\n",
        "\n",
        "    ############################################################################\n",
        "\n",
        "    # Validation phase\n",
        "    # Set the model to evaluation mode\n",
        "        model_mlp_tf_idf.eval()\n",
        "        val_running_loss = 0.0\n",
        "        all_outputs = []\n",
        "        all_labels = []\n",
        "\n",
        "    # We want to not update the gradients when it is updating the weights\n",
        "        with torch.no_grad():\n",
        "            for features, labels in dev_loader:\n",
        "                features = features.to(torch.device('cpu'))\n",
        "                labels = labels.to(torch.device('cpu'))\n",
        "                outputs = model_mlp_tf_idf(features)\n",
        "            # We compute the validation loss\n",
        "                loss = criterion(outputs, labels)\n",
        "                val_running_loss += loss.item()\n",
        "\n",
        "                all_outputs.append(outputs)\n",
        "                all_labels.append(labels)\n",
        "\n",
        "        # Concatenate all outputs and labels\n",
        "        all_outputs = torch.cat(all_outputs)\n",
        "        all_labels = torch.cat(all_labels)\n",
        "\n",
        "        # Get label indices\n",
        "        #true_classes = torch.argmax(all_labels, dim=1)\n",
        "        true_classes = all_labels\n",
        "\n",
        "        # Get predicted class indices\n",
        "        predicted_classes = torch.argmax(all_outputs, dim=1)\n",
        "\n",
        "        # Calculate metrics on the entire validation set\n",
        "        val_accuracy = accuracy_score(true_classes.cpu(), predicted_classes.cpu())\n",
        "        val_f1 = f1_score(true_classes.cpu(), predicted_classes.cpu(), average='weighted')\n",
        "\n",
        "        # Append to history\n",
        "        val_loss = val_running_loss / len(dev_loader)\n",
        "        history['val_loss'].append(val_loss)\n",
        "        history['val_accuracy'].append(val_accuracy)\n",
        "        history['val_f1_score'].append(val_f1)\n",
        "\n",
        "        # Print validation metrics\n",
        "        print(f\"Validation Loss: {val_loss}\")\n",
        "        print(f\"Validation Accuracy: {val_accuracy:.4f}, F1 Score: {val_f1:.4f}\")\n",
        "\n",
        "        # Save checkpoint at the lowest validation loss\n",
        "        if val_loss < best_val_loss:\n",
        "            best_val_loss = val_loss\n",
        "            new_model_path = f'mlp_best_model_epoch_{epoch+1}.pth'\n",
        "\n",
        "            # Delete the previous best model if it exists\n",
        "            if best_model_path is not None:\n",
        "                os.remove(best_model_path)\n",
        "\n",
        "            # Save the new best model\n",
        "            torch.save(model_mlp_tf_idf.state_dict(), new_model_path)\n",
        "            best_model_path = new_model_path  # Update the best model path\n",
        "            #print(f\"Checkpoint saved at epoch {epoch+1} with F1: {val_f1:.4f}\")\n",
        "    return model_mlp_tf_idf,history,best_model_path"
      ],
      "metadata": {
        "id": "om2bsziRpG8x"
      },
      "execution_count": null,
      "outputs": []
    },
    {
      "cell_type": "code",
      "source": [
        "model_mlp_tf_idf,history,best_model_path = train_mlp_with_params()\n"
      ],
      "metadata": {
        "colab": {
          "base_uri": "https://localhost:8080/"
        },
        "id": "nENJzhEPrSeu",
        "outputId": "18134698-f9d9-4dab-d4bb-2fb9a15dc47b"
      },
      "execution_count": null,
      "outputs": [
        {
          "output_type": "stream",
          "name": "stdout",
          "text": [
            "Validation Loss: 0.684744970595583\n",
            "Validation Accuracy: 0.7935, F1 Score: 0.7867\n",
            "Validation Loss: 0.6552311958784752\n",
            "Validation Accuracy: 0.7965, F1 Score: 0.7906\n",
            "Validation Loss: 0.6462914994422425\n",
            "Validation Accuracy: 0.7994, F1 Score: 0.7937\n",
            "Validation Loss: 0.6418549630870211\n",
            "Validation Accuracy: 0.8009, F1 Score: 0.7960\n",
            "Validation Loss: 0.6428741362500698\n",
            "Validation Accuracy: 0.7980, F1 Score: 0.7924\n",
            "Validation Loss: 0.6375088707563725\n",
            "Validation Accuracy: 0.8019, F1 Score: 0.7964\n",
            "Validation Loss: 0.637741133887717\n",
            "Validation Accuracy: 0.8022, F1 Score: 0.7973\n",
            "Validation Loss: 0.6344966013380822\n",
            "Validation Accuracy: 0.8012, F1 Score: 0.7957\n",
            "Validation Loss: 0.633263904680597\n",
            "Validation Accuracy: 0.8019, F1 Score: 0.7962\n",
            "Validation Loss: 0.6375939658981689\n",
            "Validation Accuracy: 0.7999, F1 Score: 0.7940\n",
            "Validation Loss: 0.6399796367325681\n",
            "Validation Accuracy: 0.7997, F1 Score: 0.7937\n",
            "Validation Loss: 0.6449334726054617\n",
            "Validation Accuracy: 0.7995, F1 Score: 0.7943\n",
            "Validation Loss: 0.6416532023155943\n",
            "Validation Accuracy: 0.8007, F1 Score: 0.7954\n",
            "Validation Loss: 0.6432607548033937\n",
            "Validation Accuracy: 0.8011, F1 Score: 0.7959\n",
            "Validation Loss: 0.6462717015058437\n",
            "Validation Accuracy: 0.7996, F1 Score: 0.7941\n",
            "Validation Loss: 0.6428486711167275\n",
            "Validation Accuracy: 0.8013, F1 Score: 0.7961\n",
            "Validation Loss: 0.6430845882030244\n",
            "Validation Accuracy: 0.8009, F1 Score: 0.7952\n",
            "Validation Loss: 0.6464919387660129\n",
            "Validation Accuracy: 0.8016, F1 Score: 0.7965\n",
            "Validation Loss: 0.6469991112009008\n",
            "Validation Accuracy: 0.8011, F1 Score: 0.7961\n",
            "Validation Loss: 0.6483832737232776\n",
            "Validation Accuracy: 0.7997, F1 Score: 0.7936\n",
            "Validation Loss: 0.647886260392818\n",
            "Validation Accuracy: 0.8017, F1 Score: 0.7963\n",
            "Validation Loss: 0.6537285222018019\n",
            "Validation Accuracy: 0.7998, F1 Score: 0.7949\n",
            "Validation Loss: 0.6516894311346906\n",
            "Validation Accuracy: 0.8010, F1 Score: 0.7962\n",
            "Validation Loss: 0.6553368080169597\n",
            "Validation Accuracy: 0.8006, F1 Score: 0.7952\n",
            "Validation Loss: 0.6642404078169072\n",
            "Validation Accuracy: 0.7987, F1 Score: 0.7929\n",
            "Validation Loss: 0.6627165152037398\n",
            "Validation Accuracy: 0.8007, F1 Score: 0.7949\n",
            "Validation Loss: 0.6569829113939976\n",
            "Validation Accuracy: 0.7997, F1 Score: 0.7944\n",
            "Validation Loss: 0.6560358084896778\n",
            "Validation Accuracy: 0.8007, F1 Score: 0.7958\n",
            "Validation Loss: 0.6560899025582253\n",
            "Validation Accuracy: 0.8021, F1 Score: 0.7972\n",
            "Validation Loss: 0.6574556542203781\n",
            "Validation Accuracy: 0.8020, F1 Score: 0.7967\n",
            "Validation Loss: 0.6637982472460321\n",
            "Validation Accuracy: 0.8028, F1 Score: 0.7978\n",
            "Validation Loss: 0.6680073788825501\n",
            "Validation Accuracy: 0.8013, F1 Score: 0.7960\n",
            "Validation Loss: 0.6631773887796605\n",
            "Validation Accuracy: 0.7999, F1 Score: 0.7944\n",
            "Validation Loss: 0.6677271374996673\n",
            "Validation Accuracy: 0.8000, F1 Score: 0.7946\n",
            "Validation Loss: 0.6650103888613113\n",
            "Validation Accuracy: 0.8005, F1 Score: 0.7952\n",
            "Validation Loss: 0.6691902504956468\n",
            "Validation Accuracy: 0.8003, F1 Score: 0.7950\n",
            "Validation Loss: 0.6641644768892451\n",
            "Validation Accuracy: 0.7999, F1 Score: 0.7947\n",
            "Validation Loss: 0.6659245478345993\n",
            "Validation Accuracy: 0.7995, F1 Score: 0.7942\n",
            "Validation Loss: 0.6623510594697709\n",
            "Validation Accuracy: 0.7982, F1 Score: 0.7920\n",
            "Validation Loss: 0.6725836789354365\n",
            "Validation Accuracy: 0.8017, F1 Score: 0.7965\n",
            "Validation Loss: 0.6692267719735491\n",
            "Validation Accuracy: 0.8010, F1 Score: 0.7961\n",
            "Validation Loss: 0.6733710407576663\n",
            "Validation Accuracy: 0.7995, F1 Score: 0.7941\n",
            "Validation Loss: 0.6738917891015398\n",
            "Validation Accuracy: 0.8004, F1 Score: 0.7954\n",
            "Validation Loss: 0.6763559697156257\n",
            "Validation Accuracy: 0.8012, F1 Score: 0.7963\n",
            "Validation Loss: 0.6729291287508417\n",
            "Validation Accuracy: 0.8015, F1 Score: 0.7968\n",
            "Validation Loss: 0.6732270115233482\n",
            "Validation Accuracy: 0.8011, F1 Score: 0.7961\n",
            "Validation Loss: 0.6813893888859038\n",
            "Validation Accuracy: 0.8009, F1 Score: 0.7958\n",
            "Validation Loss: 0.6795931521882402\n",
            "Validation Accuracy: 0.8015, F1 Score: 0.7964\n",
            "Validation Loss: 0.6815613058019192\n",
            "Validation Accuracy: 0.8000, F1 Score: 0.7949\n",
            "Validation Loss: 0.683194378589062\n",
            "Validation Accuracy: 0.7989, F1 Score: 0.7935\n",
            "Validation Loss: 0.6860912087115836\n",
            "Validation Accuracy: 0.8000, F1 Score: 0.7946\n",
            "Validation Loss: 0.6841664884952788\n",
            "Validation Accuracy: 0.7993, F1 Score: 0.7937\n",
            "Validation Loss: 0.6915391848442403\n",
            "Validation Accuracy: 0.7983, F1 Score: 0.7929\n",
            "Validation Loss: 0.6901142394289057\n",
            "Validation Accuracy: 0.7995, F1 Score: 0.7939\n",
            "Validation Loss: 0.6928088779145098\n",
            "Validation Accuracy: 0.7996, F1 Score: 0.7944\n",
            "Validation Loss: 0.6850414710476044\n",
            "Validation Accuracy: 0.7999, F1 Score: 0.7949\n",
            "Validation Loss: 0.6919449035157549\n",
            "Validation Accuracy: 0.8014, F1 Score: 0.7964\n",
            "Validation Loss: 0.6867264255564264\n",
            "Validation Accuracy: 0.7995, F1 Score: 0.7937\n",
            "Validation Loss: 0.6965270613102202\n",
            "Validation Accuracy: 0.7989, F1 Score: 0.7936\n",
            "Validation Loss: 0.6963994344498249\n",
            "Validation Accuracy: 0.7999, F1 Score: 0.7949\n",
            "Validation Loss: 0.6901876159170841\n",
            "Validation Accuracy: 0.8004, F1 Score: 0.7953\n",
            "Validation Loss: 0.6890173452965757\n",
            "Validation Accuracy: 0.7986, F1 Score: 0.7927\n",
            "Validation Loss: 0.6964529137662117\n",
            "Validation Accuracy: 0.8003, F1 Score: 0.7950\n",
            "Validation Loss: 0.700015423779792\n",
            "Validation Accuracy: 0.7995, F1 Score: 0.7942\n",
            "Validation Loss: 0.6938086424736266\n",
            "Validation Accuracy: 0.8003, F1 Score: 0.7950\n",
            "Validation Loss: 0.7073726337006752\n",
            "Validation Accuracy: 0.7992, F1 Score: 0.7936\n",
            "Validation Loss: 0.699398306456018\n",
            "Validation Accuracy: 0.8003, F1 Score: 0.7950\n",
            "Validation Loss: 0.7020667934037269\n",
            "Validation Accuracy: 0.8012, F1 Score: 0.7962\n",
            "Validation Loss: 0.7008454723561064\n",
            "Validation Accuracy: 0.8003, F1 Score: 0.7951\n",
            "Validation Loss: 0.7053924637272003\n",
            "Validation Accuracy: 0.8003, F1 Score: 0.7946\n",
            "Validation Loss: 0.7060647552951853\n",
            "Validation Accuracy: 0.8005, F1 Score: 0.7950\n",
            "Validation Loss: 0.7076451654763932\n",
            "Validation Accuracy: 0.8007, F1 Score: 0.7958\n",
            "Validation Loss: 0.6982355098775093\n",
            "Validation Accuracy: 0.8003, F1 Score: 0.7948\n",
            "Validation Loss: 0.7079473125173691\n",
            "Validation Accuracy: 0.7999, F1 Score: 0.7944\n",
            "Validation Loss: 0.7132508494752519\n",
            "Validation Accuracy: 0.7997, F1 Score: 0.7945\n",
            "Validation Loss: 0.7098780778494287\n",
            "Validation Accuracy: 0.8005, F1 Score: 0.7955\n",
            "Validation Loss: 0.7132873186405669\n",
            "Validation Accuracy: 0.7999, F1 Score: 0.7943\n",
            "Validation Loss: 0.7187566516247201\n",
            "Validation Accuracy: 0.8006, F1 Score: 0.7952\n",
            "Validation Loss: 0.7100198322788198\n",
            "Validation Accuracy: 0.8022, F1 Score: 0.7972\n",
            "Validation Loss: 0.7123169867282219\n",
            "Validation Accuracy: 0.8003, F1 Score: 0.7953\n",
            "Validation Loss: 0.7087911817621677\n",
            "Validation Accuracy: 0.8005, F1 Score: 0.7954\n",
            "Validation Loss: 0.7110810051573083\n",
            "Validation Accuracy: 0.8003, F1 Score: 0.7952\n",
            "Validation Loss: 0.7152686426614193\n",
            "Validation Accuracy: 0.8005, F1 Score: 0.7953\n",
            "Validation Loss: 0.7162830772552085\n",
            "Validation Accuracy: 0.7998, F1 Score: 0.7942\n",
            "Validation Loss: 0.7061671893647377\n",
            "Validation Accuracy: 0.7984, F1 Score: 0.7930\n",
            "Validation Loss: 0.7078185259027684\n",
            "Validation Accuracy: 0.8013, F1 Score: 0.7964\n",
            "Validation Loss: 0.723225805987703\n",
            "Validation Accuracy: 0.8010, F1 Score: 0.7960\n",
            "Validation Loss: 0.7163815051317215\n",
            "Validation Accuracy: 0.8011, F1 Score: 0.7962\n",
            "Validation Loss: 0.7139940039908632\n",
            "Validation Accuracy: 0.8008, F1 Score: 0.7960\n",
            "Validation Loss: 0.7244399545040536\n",
            "Validation Accuracy: 0.8014, F1 Score: 0.7962\n",
            "Validation Loss: 0.7220669395111977\n",
            "Validation Accuracy: 0.8003, F1 Score: 0.7952\n",
            "Validation Loss: 0.72068242189732\n",
            "Validation Accuracy: 0.7996, F1 Score: 0.7944\n",
            "Validation Loss: 0.7217715166984721\n",
            "Validation Accuracy: 0.8005, F1 Score: 0.7948\n",
            "Validation Loss: 0.7115975206202649\n",
            "Validation Accuracy: 0.7987, F1 Score: 0.7934\n",
            "Validation Loss: 0.7195813896808219\n",
            "Validation Accuracy: 0.8016, F1 Score: 0.7967\n",
            "Validation Loss: 0.7180269886838629\n",
            "Validation Accuracy: 0.8006, F1 Score: 0.7952\n",
            "Validation Loss: 0.7191825027161456\n",
            "Validation Accuracy: 0.8008, F1 Score: 0.7958\n",
            "Validation Loss: 0.7109948739092401\n",
            "Validation Accuracy: 0.8002, F1 Score: 0.7947\n",
            "Validation Loss: 0.720415619459558\n",
            "Validation Accuracy: 0.8006, F1 Score: 0.7951\n",
            "Validation Loss: 0.7283780895015026\n",
            "Validation Accuracy: 0.7999, F1 Score: 0.7945\n",
            "Validation Loss: 0.7149251395083488\n",
            "Validation Accuracy: 0.7995, F1 Score: 0.7939\n",
            "Validation Loss: 0.7260430867367602\n",
            "Validation Accuracy: 0.8004, F1 Score: 0.7951\n",
            "Validation Loss: 0.7211847254570495\n",
            "Validation Accuracy: 0.7990, F1 Score: 0.7935\n",
            "Validation Loss: 0.722643699417723\n",
            "Validation Accuracy: 0.8004, F1 Score: 0.7953\n",
            "Validation Loss: 0.7373367275329347\n",
            "Validation Accuracy: 0.7999, F1 Score: 0.7944\n",
            "Validation Loss: 0.7269045460097333\n",
            "Validation Accuracy: 0.8004, F1 Score: 0.7948\n",
            "Validation Loss: 0.7241098890279202\n",
            "Validation Accuracy: 0.8010, F1 Score: 0.7958\n",
            "Validation Loss: 0.7253961797724379\n",
            "Validation Accuracy: 0.8013, F1 Score: 0.7963\n",
            "Validation Loss: 0.7221057982520854\n",
            "Validation Accuracy: 0.8015, F1 Score: 0.7967\n",
            "Validation Loss: 0.7384933778580199\n",
            "Validation Accuracy: 0.8006, F1 Score: 0.7956\n",
            "Validation Loss: 0.7292172135190761\n",
            "Validation Accuracy: 0.8009, F1 Score: 0.7960\n",
            "Validation Loss: 0.7311226757282906\n",
            "Validation Accuracy: 0.8012, F1 Score: 0.7960\n",
            "Validation Loss: 0.7439886268149031\n",
            "Validation Accuracy: 0.8013, F1 Score: 0.7964\n",
            "Validation Loss: 0.7414280306151573\n",
            "Validation Accuracy: 0.7990, F1 Score: 0.7936\n",
            "Validation Loss: 0.7410637739490955\n",
            "Validation Accuracy: 0.7992, F1 Score: 0.7938\n",
            "Validation Loss: 0.7288990363161615\n",
            "Validation Accuracy: 0.8005, F1 Score: 0.7957\n",
            "Validation Loss: 0.736611710900956\n",
            "Validation Accuracy: 0.8018, F1 Score: 0.7970\n",
            "Validation Loss: 0.7490245262359051\n",
            "Validation Accuracy: 0.8003, F1 Score: 0.7950\n",
            "Validation Loss: 0.7321428345873001\n",
            "Validation Accuracy: 0.8006, F1 Score: 0.7952\n",
            "Validation Loss: 0.7344662410781738\n",
            "Validation Accuracy: 0.8008, F1 Score: 0.7954\n",
            "Validation Loss: 0.7430328847245967\n",
            "Validation Accuracy: 0.8012, F1 Score: 0.7963\n",
            "Validation Loss: 0.7428007791651056\n",
            "Validation Accuracy: 0.8005, F1 Score: 0.7955\n",
            "Validation Loss: 0.7468342800089653\n",
            "Validation Accuracy: 0.8013, F1 Score: 0.7966\n",
            "Validation Loss: 0.759355550116681\n",
            "Validation Accuracy: 0.8010, F1 Score: 0.7956\n",
            "Validation Loss: 0.7399950192329732\n",
            "Validation Accuracy: 0.8005, F1 Score: 0.7952\n",
            "Validation Loss: 0.7406590676054041\n",
            "Validation Accuracy: 0.8015, F1 Score: 0.7968\n",
            "Validation Loss: 0.7605592468951611\n",
            "Validation Accuracy: 0.8024, F1 Score: 0.7975\n",
            "Validation Loss: 0.7376572128306044\n",
            "Validation Accuracy: 0.8013, F1 Score: 0.7964\n",
            "Validation Loss: 0.7445343384083282\n",
            "Validation Accuracy: 0.8004, F1 Score: 0.7957\n",
            "Validation Loss: 0.7421532384258636\n",
            "Validation Accuracy: 0.8011, F1 Score: 0.7963\n",
            "Validation Loss: 0.7444232810050884\n",
            "Validation Accuracy: 0.7998, F1 Score: 0.7943\n",
            "Validation Loss: 0.7397718353474394\n",
            "Validation Accuracy: 0.8011, F1 Score: 0.7960\n",
            "Validation Loss: 0.7445398321811189\n",
            "Validation Accuracy: 0.7995, F1 Score: 0.7937\n",
            "Validation Loss: 0.7364096016959941\n",
            "Validation Accuracy: 0.7995, F1 Score: 0.7940\n",
            "Validation Loss: 0.7403506303721286\n",
            "Validation Accuracy: 0.8002, F1 Score: 0.7951\n",
            "Validation Loss: 0.7478790841204055\n",
            "Validation Accuracy: 0.8011, F1 Score: 0.7962\n",
            "Validation Loss: 0.741002508934508\n",
            "Validation Accuracy: 0.8013, F1 Score: 0.7969\n",
            "Validation Loss: 0.7494185528856643\n",
            "Validation Accuracy: 0.8008, F1 Score: 0.7956\n",
            "Validation Loss: 0.7554177280436171\n",
            "Validation Accuracy: 0.8001, F1 Score: 0.7946\n",
            "Validation Loss: 0.7562274089519013\n",
            "Validation Accuracy: 0.8000, F1 Score: 0.7951\n",
            "Validation Loss: 0.754861039050082\n",
            "Validation Accuracy: 0.8000, F1 Score: 0.7948\n",
            "Validation Loss: 0.7410098536217467\n",
            "Validation Accuracy: 0.8001, F1 Score: 0.7948\n",
            "Validation Loss: 0.7486915239628326\n",
            "Validation Accuracy: 0.8003, F1 Score: 0.7949\n",
            "Validation Loss: 0.7433665122123475\n",
            "Validation Accuracy: 0.7994, F1 Score: 0.7940\n",
            "Validation Loss: 0.7476176029824196\n",
            "Validation Accuracy: 0.7998, F1 Score: 0.7945\n",
            "Validation Loss: 0.745413028496377\n",
            "Validation Accuracy: 0.8008, F1 Score: 0.7959\n",
            "Validation Loss: 0.751506340947557\n",
            "Validation Accuracy: 0.7995, F1 Score: 0.7945\n",
            "Validation Loss: 0.7490425753466626\n",
            "Validation Accuracy: 0.8000, F1 Score: 0.7947\n",
            "Validation Loss: 0.7488280797892428\n",
            "Validation Accuracy: 0.7982, F1 Score: 0.7924\n",
            "Validation Loss: 0.7510077344610336\n",
            "Validation Accuracy: 0.8006, F1 Score: 0.7958\n"
          ]
        }
      ]
    },
    {
      "cell_type": "code",
      "source": [
        "plot_training_histories([history])"
      ],
      "metadata": {
        "colab": {
          "base_uri": "https://localhost:8080/",
          "height": 1000
        },
        "id": "U-7N8lNdz2gr",
        "outputId": "65ff2cee-b393-4949-cb20-3c7ab8e3b5a5"
      },
      "execution_count": null,
      "outputs": [
        {
          "output_type": "display_data",
          "data": {
            "text/plain": [
              "<Figure size 640x480 with 1 Axes>"
            ],
            "image/png": "[encoded data removed]"
          },
          "metadata": {}
        },
        {
          "output_type": "display_data",
          "data": {
            "text/plain": [
              "<Figure size 640x480 with 1 Axes>"
            ],
            "image/png": "[encoded data removed]"
          },
          "metadata": {}
        },
        {
          "output_type": "display_data",
          "data": {
            "text/plain": [
              "<Figure size 640x480 with 1 Axes>"
            ],
            "image/png": "[encoded data removed]"
          },
          "metadata": {}
        }
      ]
    },
    {
      "cell_type": "code",
      "source": [
        "model_mlp_tf_idf.eval()\n",
        "model_mlp_tf_idf.to(\"cpu\")\n",
        "\n",
        "pred_val = model_mlp_tf_idf(X_dev_cent_tensor)\n",
        "\n",
        "y_pred_val = torch.argmax(pred_val, dim=1)\n",
        "categories = ['PART', 'PRON', 'ADJ', 'X', 'VERB', 'ADP', 'ADV', 'INTJ', 'PUNCT', 'SCONJ', 'NOUN', 'DET', 'AUX', 'PROPN', 'CCONJ', 'SYM', 'NUM']\n",
        "print(model_mlp_tf_idf)\n",
        "print(f\"Results in Validation Data for MLP with TFIDF Features, trained for 150 epochs\")\n",
        "print(classification_report(y_dev_tensor, y_pred_val, target_names=categories))\n",
        "\n",
        "print(f'MLP TF-IDF Validation Accuracy: {accuracy_score(y_dev_tensor, y_pred_val)*100:.2f}%')\n",
        "\n",
        "predictions_test = model_mlp_tf_idf(X_test_cent_tensor)\n",
        "y_pred_test = torch.argmax(predictions_test, dim=1)\n",
        "print(f'MLP TF-IDF Test Accuracy:{accuracy_score(y_test_tensor, y_pred_test)*100:.2f}%')\n",
        "\n",
        "X_train_cent_tensor = torch.tensor(x_train_word_embeddings, dtype=torch.float32)\n",
        "y_train_tensor = torch.tensor(Y_train, dtype=torch.long)\n",
        "\n",
        "X_dev_cent_tensor = torch.tensor(x_dev_word_embeddings, dtype=torch.float32)\n",
        "y_dev_tensor = torch.tensor(Y_dev, dtype=torch.long)\n",
        "\n",
        "X_test_cent_tensor = torch.tensor(x_test_word_embeddings, dtype=torch.float32)\n",
        "y_test_tensor = torch.tensor(Y_test, dtype=torch.long)"
      ],
      "metadata": {
        "colab": {
          "base_uri": "https://localhost:8080/",
          "height": 922
        },
        "id": "jVqldC9708uj",
        "outputId": "243553e1-456e-4017-ed2f-48a7d562e0ac"
      },
      "execution_count": null,
      "outputs": [
        {
          "output_type": "stream",
          "name": "stdout",
          "text": [
            "MLP_centroids(\n",
            "  (network): Sequential(\n",
            "    (0): Linear(in_features=300, out_features=256, bias=True)\n",
            "    (1): ReLU()\n",
            "    (2): Dropout(p=0.3, inplace=False)\n",
            "    (3): Linear(in_features=256, out_features=256, bias=True)\n",
            "    (4): ReLU()\n",
            "    (5): Dropout(p=0.3, inplace=False)\n",
            "    (6): Linear(in_features=256, out_features=128, bias=True)\n",
            "    (7): ReLU()\n",
            "    (8): Dropout(p=0.4, inplace=False)\n",
            "    (9): Linear(in_features=128, out_features=17, bias=True)\n",
            "  )\n",
            ")\n",
            "Results in Validation Data for MLP with TFIDF Features, trained for 150 epochs\n",
            "              precision    recall  f1-score   support\n",
            "\n",
            "        PART       1.00      0.30      0.46       661\n",
            "        PRON       0.92      0.96      0.94      2279\n",
            "         ADJ       0.88      0.90      0.89      1584\n",
            "           X       0.75      0.25      0.38        12\n",
            "        VERB       0.90      0.85      0.88      2676\n",
            "         ADP       0.86      0.64      0.73      2226\n",
            "         ADV       0.91      0.79      0.84      1150\n",
            "        INTJ       0.84      0.66      0.74       256\n",
            "       PUNCT       0.52      1.00      0.69      3180\n",
            "       SCONJ       0.83      0.36      0.50       405\n",
            "        NOUN       0.89      0.92      0.90      3986\n",
            "         DET       0.94      0.75      0.83      1896\n",
            "         AUX       0.91      0.87      0.89      1353\n",
            "       PROPN       0.79      0.56      0.66      1029\n",
            "       CCONJ       0.97      0.27      0.42       828\n",
            "         SYM       1.00      0.13      0.24        15\n",
            "         NUM       0.92      0.48      0.63       384\n",
            "\n",
            "    accuracy                           0.80     23920\n",
            "   macro avg       0.87      0.63      0.68     23920\n",
            "weighted avg       0.85      0.80      0.80     23920\n",
            "\n",
            "MLP TF-IDF Validation Accuracy: 80.06%\n",
            "MLP TF-IDF Test Accuracy:78.17%\n"
          ]
        },
        {
          "output_type": "error",
          "ename": "ValueError",
          "evalue": "too many dimensions 'str'",
          "traceback": [
            "\u001b[0;31m---------------------------------------------------------------------------\u001b[0m",
            "\u001b[0;31mValueError\u001b[0m                                Traceback (most recent call last)",
            "\u001b[0;32m<ipython-input-67-47260ccc302a>\u001b[0m in \u001b[0;36m<cell line: 19>\u001b[0;34m()\u001b[0m\n\u001b[1;32m     17\u001b[0m \u001b[0;34m\u001b[0m\u001b[0m\n\u001b[1;32m     18\u001b[0m \u001b[0mX_train_cent_tensor\u001b[0m \u001b[0;34m=\u001b[0m \u001b[0mtorch\u001b[0m\u001b[0;34m.\u001b[0m\u001b[0mtensor\u001b[0m\u001b[0;34m(\u001b[0m\u001b[0mx_train_word_embeddings\u001b[0m\u001b[0;34m,\u001b[0m \u001b[0mdtype\u001b[0m\u001b[0;34m=\u001b[0m\u001b[0mtorch\u001b[0m\u001b[0;34m.\u001b[0m\u001b[0mfloat32\u001b[0m\u001b[0;34m)\u001b[0m\u001b[0;34m\u001b[0m\u001b[0;34m\u001b[0m\u001b[0m\n\u001b[0;32m---> 19\u001b[0;31m \u001b[0my_train_tensor\u001b[0m \u001b[0;34m=\u001b[0m \u001b[0mtorch\u001b[0m\u001b[0;34m.\u001b[0m\u001b[0mtensor\u001b[0m\u001b[0;34m(\u001b[0m\u001b[0mY_train\u001b[0m\u001b[0;34m,\u001b[0m \u001b[0mdtype\u001b[0m\u001b[0;34m=\u001b[0m\u001b[0mtorch\u001b[0m\u001b[0;34m.\u001b[0m\u001b[0mlong\u001b[0m\u001b[0;34m)\u001b[0m\u001b[0;34m\u001b[0m\u001b[0;34m\u001b[0m\u001b[0m\n\u001b[0m\u001b[1;32m     20\u001b[0m \u001b[0;34m\u001b[0m\u001b[0m\n\u001b[1;32m     21\u001b[0m \u001b[0mX_dev_cent_tensor\u001b[0m \u001b[0;34m=\u001b[0m \u001b[0mtorch\u001b[0m\u001b[0;34m.\u001b[0m\u001b[0mtensor\u001b[0m\u001b[0;34m(\u001b[0m\u001b[0mx_dev_word_embeddings\u001b[0m\u001b[0;34m,\u001b[0m \u001b[0mdtype\u001b[0m\u001b[0;34m=\u001b[0m\u001b[0mtorch\u001b[0m\u001b[0;34m.\u001b[0m\u001b[0mfloat32\u001b[0m\u001b[0;34m)\u001b[0m\u001b[0;34m\u001b[0m\u001b[0;34m\u001b[0m\u001b[0m\n",
            "\u001b[0;31mValueError\u001b[0m: too many dimensions 'str'"
          ]
        }
      ]
    }
  ]
}