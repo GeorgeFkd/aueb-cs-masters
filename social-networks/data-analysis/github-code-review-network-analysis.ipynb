{
 "cells": [
  {
   "metadata": {},
   "cell_type": "markdown",
   "source": [
    "# Social Network Analysis for Developer Code Review Networks\n",
    "\n",
    "## Terminology\n",
    "PR, Reviewer\n",
    "\n",
    "## Data Collection\n",
    "Vue,React packages from npms.io with the following params:\n",
    "Then github repo from official gh API (will make an image for here from diagramming)\n",
    "\n",
    "\n",
    "## Graph Model\n",
    "G=<V,E,R,T>\n",
    "\n",
    "V: The nodes in this scenario are developers.\n",
    "\n",
    "E: The edges in this scenario are directed, the source node is the PR Author\n",
    "and the destination node is the PR reviewer\n",
    "\n",
    "R: the relation types are only the PRs\n",
    "\n",
    "T: No different node types, as the same person can both be a reviewer and an author.\n",
    "\n",
    "\n",
    "### About the Metrics Studied\n",
    "I can also talk about metrics i did NOT study and the reason why.\n",
    "I should focus much more on the degree distributions. Explain why paths probably dont matter."
   ],
   "id": "a85563563335817d"
  },
  {
   "metadata": {},
   "cell_type": "markdown",
   "source": "#### In-Degree Centrality",
   "id": "d22435850b692a25"
  },
  {
   "metadata": {
    "ExecuteTime": {
     "end_time": "2025-03-23T12:08:52.196944Z",
     "start_time": "2025-03-23T12:08:52.192862Z"
    }
   },
   "cell_type": "code",
   "source": "print(\"In-Degree Centrality\")",
   "id": "3b56adf854b7ca47",
   "outputs": [
    {
     "name": "stdout",
     "output_type": "stream",
     "text": [
      "In-Degree Centrality\n"
     ]
    }
   ],
   "execution_count": 1
  },
  {
   "metadata": {},
   "cell_type": "markdown",
   "source": "#### Out-Degree Centrality",
   "id": "803c048a25bb6a06"
  },
  {
   "metadata": {
    "ExecuteTime": {
     "end_time": "2025-03-23T12:09:38.204673Z",
     "start_time": "2025-03-23T12:09:38.201490Z"
    }
   },
   "cell_type": "code",
   "source": "print(\"Out-Degree centrality\")",
   "id": "2e2cb1e56dbe10bd",
   "outputs": [
    {
     "name": "stdout",
     "output_type": "stream",
     "text": [
      "Out-Degree centrality\n"
     ]
    }
   ],
   "execution_count": 2
  },
  {
   "metadata": {},
   "cell_type": "markdown",
   "source": "#### In-Degree Distribution(Reviews given per developer)\n",
   "id": "d6e650d82586c81b"
  },
  {
   "metadata": {
    "ExecuteTime": {
     "end_time": "2025-03-23T12:10:08.513113Z",
     "start_time": "2025-03-23T12:10:08.509983Z"
    }
   },
   "cell_type": "code",
   "source": "print(\"In-Degree distribution\")",
   "id": "cddded2476ba3dc2",
   "outputs": [
    {
     "name": "stdout",
     "output_type": "stream",
     "text": [
      "In-Degree distribution\n"
     ]
    }
   ],
   "execution_count": 3
  },
  {
   "metadata": {},
   "cell_type": "markdown",
   "source": "#### Out-Degree distribution\n",
   "id": "c00ce2f26181b6bf"
  },
  {
   "metadata": {},
   "cell_type": "code",
   "outputs": [],
   "execution_count": null,
   "source": "print(\"Out-degree distribution\")",
   "id": "cc2c67a24098699e"
  },
  {
   "metadata": {},
   "cell_type": "markdown",
   "source": "#### Clustering Coefficients(for seeing tight communities)\n",
   "id": "37a141ae73439e4b"
  },
  {
   "metadata": {
    "ExecuteTime": {
     "end_time": "2025-03-23T12:11:07.401960Z",
     "start_time": "2025-03-23T12:11:07.398829Z"
    }
   },
   "cell_type": "code",
   "source": "print(\"Clustering\")",
   "id": "d9bb3797cccfe5ea",
   "outputs": [
    {
     "name": "stdout",
     "output_type": "stream",
     "text": [
      "Clustering\n"
     ]
    }
   ],
   "execution_count": 4
  },
  {
   "metadata": {},
   "cell_type": "markdown",
   "source": "#### Vertex Connectivity (for seeing network robustness if a developer stops working)\n",
   "id": "a41ba9a58acbc04d"
  },
  {
   "metadata": {
    "ExecuteTime": {
     "end_time": "2025-03-23T12:11:30.774089Z",
     "start_time": "2025-03-23T12:11:30.770922Z"
    }
   },
   "cell_type": "code",
   "source": "print(\"vertex connectivity\")",
   "id": "9a6cfb2c3ea1a506",
   "outputs": [
    {
     "name": "stdout",
     "output_type": "stream",
     "text": [
      "vertex connectivity\n"
     ]
    }
   ],
   "execution_count": 5
  }
 ],
 "metadata": {
  "kernelspec": {
   "display_name": "Python 3",
   "language": "python",
   "name": "python3"
  },
  "language_info": {
   "codemirror_mode": {
    "name": "ipython",
    "version": 2
   },
   "file_extension": ".py",
   "mimetype": "text/x-python",
   "name": "python",
   "nbconvert_exporter": "python",
   "pygments_lexer": "ipython2",
   "version": "2.7.6"
  }
 },
 "nbformat": 4,
 "nbformat_minor": 5
}
